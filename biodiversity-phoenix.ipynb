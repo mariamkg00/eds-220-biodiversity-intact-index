{
 "cells": [
  {
   "cell_type": "markdown",
   "id": "aa161455-7146-4cf7-ae9b-74fc065cbdc8",
   "metadata": {},
   "source": [
    "### importing necessary libraries"
   ]
  },
  {
   "cell_type": "code",
   "execution_count": 3,
   "id": "d6fcdc32-1dca-40d2-941b-d1fefda7ee61",
   "metadata": {
    "tags": []
   },
   "outputs": [],
   "source": [
    "import numpy as np\n",
    "import geopandas as gpd\n",
    "import rioxarray as rioxr\n",
    "import matplotlib.pyplot as plt\n",
    "\n",
    "from shapely.geometry import Polygon\n",
    "\n",
    "# used to access STAC catalogs\n",
    "from pystac_client import Client\n",
    "# used to sign items from the MPC STAC catalog\n",
    "import planetary_computer\n",
    "\n",
    "# ----- other libraries for nice ouputs\n",
    "from IPython.display import Image"
   ]
  },
  {
   "cell_type": "markdown",
   "id": "c656b243-a744-4bbd-83f9-76c7ae9a97e5",
   "metadata": {},
   "source": [
    "#### Data access for io-biodiversity collection"
   ]
  },
  {
   "cell_type": "code",
   "execution_count": 4,
   "id": "ac2cc4d2-9902-4217-b425-4b825f9cc717",
   "metadata": {
    "tags": []
   },
   "outputs": [],
   "source": [
    "# access catalog\n",
    "catalog = Client.open(\n",
    "    \"https://planetarycomputer.microsoft.com/api/stac/v1\",\n",
    "    modifier=planetary_computer.sign_inplace,\n",
    ")"
   ]
  },
  {
   "cell_type": "code",
   "execution_count": 5,
   "id": "0fd4ab35-4b87-4bad-81f5-16ab3dd749ed",
   "metadata": {
    "tags": []
   },
   "outputs": [
    {
     "name": "stdout",
     "output_type": "stream",
     "text": [
      "Number of collections: 122\n",
      "Collections IDs (first 10):\n",
      "- daymet-annual-pr\n",
      "- daymet-daily-hi\n",
      "- 3dep-seamless\n",
      "- 3dep-lidar-dsm\n",
      "- fia\n",
      "- sentinel-1-rtc\n",
      "- gridmet\n",
      "- daymet-annual-na\n",
      "- daymet-monthly-na\n",
      "- daymet-annual-hi\n"
     ]
    }
   ],
   "source": [
    "# get collections and print their names\n",
    "collections = list(catalog.get_collections())\n",
    "\n",
    "print('Number of collections:', len(collections))\n",
    "\n",
    "print(\"Collections IDs (first 10):\")\n",
    "for i in range(10):\n",
    "    print('-', collections[i].id)"
   ]
  },
  {
   "cell_type": "code",
   "execution_count": 7,
   "id": "9166c8c2-b4ee-4df0-80aa-a34dbba3b1fe",
   "metadata": {
    "tags": []
   },
   "outputs": [],
   "source": [
    "io_biodiversity = catalog.get_child('io-biodiversity')"
   ]
  },
  {
   "cell_type": "code",
   "execution_count": 8,
   "id": "f1f1717a-14e8-46b0-bbdc-cc7be392df04",
   "metadata": {
    "tags": []
   },
   "outputs": [],
   "source": [
    "# accessing 2017 and 2020 rasters\n",
    "time_range = \"2017-01-01/2021-01-01\"\n",
    "\n",
    "\n",
    "\n",
    "# making a bounding box for Phoenix \n",
    "bbox = [-112.826843, 32.974108, -111.184387, 33.863574]\n",
    "\n",
    "\n",
    "# search \n",
    "search = catalog.search(\n",
    "    collections=[\"io-biodiversity\"], \n",
    "    bbox=bbox, \n",
    "    datetime= time_range\n",
    ")"
   ]
  }
 ],
 "metadata": {
  "kernelspec": {
   "display_name": "Python 3 (ipykernel)",
   "language": "python",
   "name": "python3"
  },
  "language_info": {
   "codemirror_mode": {
    "name": "ipython",
    "version": 3
   },
   "file_extension": ".py",
   "mimetype": "text/x-python",
   "name": "python",
   "nbconvert_exporter": "python",
   "pygments_lexer": "ipython3",
   "version": "3.11.4"
  }
 },
 "nbformat": 4,
 "nbformat_minor": 5
}
